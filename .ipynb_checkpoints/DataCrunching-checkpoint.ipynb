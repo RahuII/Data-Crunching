{
 "cells": [
  {
   "cell_type": "markdown",
   "id": "28c56bc2",
   "metadata": {},
   "source": [
    "## Data Crunching program"
   ]
  },
  {
   "cell_type": "code",
   "execution_count": 1,
   "id": "59a1fd2b",
   "metadata": {},
   "outputs": [],
   "source": [
    "import csv \n",
    "import psutil"
   ]
  },
  {
   "cell_type": "code",
   "execution_count": 2,
   "id": "f9424c62",
   "metadata": {},
   "outputs": [],
   "source": [
    "def read_tsv(filename):\n",
    "    with open(filename, 'r') as f:\n",
    "        reader = csv.DictReader(f, delimiter='\\t')\n",
    "        return [row for row in reader]"
   ]
  },
  {
   "cell_type": "code",
   "execution_count": 3,
   "id": "3a174847",
   "metadata": {},
   "outputs": [],
   "source": [
    "def write_tsv(filename, rows):\n",
    "    with open(filename, 'w') as f:\n",
    "        writer = csv.DictWriter(f, fieldnames=['id', 'username', 'email', 'hashed_password', 'plain_text_password','ip_address'], delimiter='\\t')\n",
    "        writer.writeheader()\n",
    "        writer.writerows(rows)"
   ]
  },
  {
   "cell_type": "code",
   "execution_count": 4,
   "id": "4f2988d8",
   "metadata": {},
   "outputs": [],
   "source": [
    "first_rows = read_tsv(\"user_email_hash.1m.tsv\") # Reading User_email.hash.1m.tsv – 1 million records of users with id, username, email, hashed_password"
   ]
  },
  {
   "cell_type": "code",
   "execution_count": 5,
   "id": "d5704ac9",
   "metadata": {},
   "outputs": [],
   "source": [
    "third_rows = read_tsv(\"ip_1m.tsv\") # Reading Ip_1m.tsv – 1 million records of users with id, ip"
   ]
  },
  {
   "cell_type": "code",
   "execution_count": 6,
   "id": "6a28b707",
   "metadata": {},
   "outputs": [],
   "source": [
    "second_rows = read_tsv(\"plain_32m.tsv\") # Reading Plain_32m.tsv – 32 million records of users with email, plaintext_password"
   ]
  },
  {
   "cell_type": "code",
   "execution_count": 7,
   "id": "acf5569d",
   "metadata": {},
   "outputs": [
    {
     "name": "stdout",
     "output_type": "stream",
     "text": [
      "{'id': '1', 'username': 'wisehight', 'email': 'mikeslee2@gmail.com', 'password': '12e89f289a1a17819c38212adefe85fd8bcf9650'}\n"
     ]
    }
   ],
   "source": [
    "print(first_rows[0])"
   ]
  },
  {
   "cell_type": "code",
   "execution_count": 8,
   "id": "407a23ef",
   "metadata": {},
   "outputs": [
    {
     "name": "stdout",
     "output_type": "stream",
     "text": [
      "{'sbh0608@hotmail.com': 'stephaniebhankinson@gmail.com', 'Culsen': 'munchaowl'}\n"
     ]
    }
   ],
   "source": [
    "print(second_rows[0])"
   ]
  },
  {
   "cell_type": "code",
   "execution_count": 9,
   "id": "785ca294",
   "metadata": {},
   "outputs": [
    {
     "name": "stdout",
     "output_type": "stream",
     "text": [
      "{'id': '1', 'ip_address': '76.254.72.182'}\n"
     ]
    }
   ],
   "source": [
    "print(third_rows[0])"
   ]
  },
  {
   "cell_type": "code",
   "execution_count": 10,
   "id": "87d10b5f",
   "metadata": {},
   "outputs": [
    {
     "name": "stdout",
     "output_type": "stream",
     "text": [
      "successful......\n"
     ]
    }
   ],
   "source": [
    "\"\"\"\n",
    "creates two dictionaries, second_rows_dict and third_rows_dict. \n",
    "The dictionaries are created by using a dictionary comprehension, \n",
    "which is a concise way to create a new dictionary\n",
    "\"\"\"\n",
    "\n",
    "second_rows_dict = {row['sbh0608@hotmail.com']: row for row in second_rows}\n",
    "third_rows_dict = {row['id']: row for row in third_rows}\n",
    "\n",
    "#Initializes an empty list new_rows to store the new dictionaries that will be created.\n",
    "new_rows = [] \n",
    "\n",
    "for first_row in first_rows:  #Run a loops over each row in the first_rows list.\n",
    "    id = first_row['id']\n",
    "    email = first_row['email']\n",
    "    username = first_row['username']\n",
    "    password = first_row['password']\n",
    "    second_row = second_rows_dict.get(email, {})\n",
    "    third_row = third_rows_dict.get(id, {})\n",
    "    new_row = {\n",
    "        'id': id,\n",
    "        'username': username,\n",
    "        'email': email,\n",
    "        'hashed_password': password,\n",
    "        'plain_text_password': second_row.get('Culsen', ''),\n",
    "        'ip_address': third_row.get('ip_address', ''),\n",
    "    }\n",
    "    new_rows.append(new_row)  #appends the new_row dictionary to the new_rows list.\n",
    "\n",
    "write_tsv('new_crunched_file.tsv', new_rows)\n",
    "print(\"successful......\")"
   ]
  },
  {
   "cell_type": "code",
   "execution_count": 11,
   "id": "56e6c159",
   "metadata": {},
   "outputs": [
    {
     "name": "stdout",
     "output_type": "stream",
     "text": [
      "RAM memory % used: 92.6\n",
      "RAM Used (GB): 15.786274816\n"
     ]
    }
   ],
   "source": [
    "print('RAM memory % used:', psutil.virtual_memory()[2])\n",
    "# Getting usage of virtual_memory in GB ( 4th field)\n",
    "print('RAM Used (GB):', psutil.virtual_memory()[3]/1000000000)\n",
    "load1, load5, load15 = psutil.getloadavg()\n",
    " \n",
    "cpu_usage = (load15/os.cpu_count()) * 100\n",
    " \n",
    "print(\"The CPU usage is : \", cpu_usage)\n",
    "print('The CPU usage is: ', psutil.cpu_percent(4))"
   ]
  }
 ],
 "metadata": {
  "kernelspec": {
   "display_name": "Python 3 (ipykernel)",
   "language": "python",
   "name": "python3"
  },
  "language_info": {
   "codemirror_mode": {
    "name": "ipython",
    "version": 3
   },
   "file_extension": ".py",
   "mimetype": "text/x-python",
   "name": "python",
   "nbconvert_exporter": "python",
   "pygments_lexer": "ipython3",
   "version": "3.9.13"
  },
  "vscode": {
   "interpreter": {
    "hash": "8bf0d51478355d2251941b3b98616086516a0eddd7c72ee47a3371765770709a"
   }
  }
 },
 "nbformat": 4,
 "nbformat_minor": 5
}
