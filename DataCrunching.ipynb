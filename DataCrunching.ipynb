{
 "cells": [
  {
   "cell_type": "markdown",
   "id": "28c56bc2",
   "metadata": {},
   "source": [
    "## Data Crunching program"
   ]
  },
  {
   "cell_type": "code",
   "execution_count": 22,
   "id": "59a1fd2b",
   "metadata": {},
   "outputs": [],
   "source": [
    "import csv"
   ]
  },
  {
   "cell_type": "code",
   "execution_count": 24,
   "id": "f9424c62",
   "metadata": {},
   "outputs": [],
   "source": [
    "def read_tsv(filename):\n",
    "    with open(filename, 'r') as f:\n",
    "        reader = csv.DictReader(f, delimiter='\\t')\n",
    "        return [row for row in reader]"
   ]
  },
  {
   "cell_type": "code",
   "execution_count": 25,
   "id": "3a174847",
   "metadata": {},
   "outputs": [],
   "source": [
    "def write_tsv(filename, rows):\n",
    "    with open(filename, 'w') as f:\n",
    "        writer = csv.DictWriter(f, fieldnames=['id', 'username', 'email', 'hashed_password', 'plain_text_password','ip_address'], delimiter='\\t')\n",
    "        writer.writeheader()\n",
    "        writer.writerows(rows)"
   ]
  },
  {
   "cell_type": "code",
   "execution_count": 5,
   "id": "4f2988d8",
   "metadata": {},
   "outputs": [],
   "source": [
    "first_rows = read_tsv(\"user_email_hash.1m.tsv\") # Reading User_email.hash.1m.tsv – 1 million records of users with id, username, email, hashed_password"
   ]
  },
  {
   "cell_type": "code",
   "execution_count": 6,
   "id": "d5704ac9",
   "metadata": {},
   "outputs": [],
   "source": [
    "third_rows = read_tsv(\"ip_1m.tsv\") # Reading Ip_1m.tsv – 1 million records of users with id, ip"
   ]
  },
  {
   "cell_type": "code",
   "execution_count": 7,
   "id": "6a28b707",
   "metadata": {},
   "outputs": [],
   "source": [
    "second_rows = read_tsv(\"plain_32m.tsv\") # Reading Plain_32m.tsv – 32 million records of users with email, plaintext_password"
   ]
  },
  {
   "cell_type": "code",
   "execution_count": 8,
   "id": "acf5569d",
   "metadata": {},
   "outputs": [
    {
     "name": "stdout",
     "output_type": "stream",
     "text": [
      "{'id': '1', 'username': 'wisehight', 'email': 'mikeslee2@gmail.com', 'password': '12e89f289a1a17819c38212adefe85fd8bcf9650'}\n"
     ]
    }
   ],
   "source": [
    "print(first_rows[0])"
   ]
  },
  {
   "cell_type": "code",
   "execution_count": 32,
   "id": "407a23ef",
   "metadata": {},
   "outputs": [
    {
     "name": "stdout",
     "output_type": "stream",
     "text": [
      "{'sbh0608@hotmail.com': 'stephaniebhankinson@gmail.com', 'Culsen': 'munchaowl'}\n"
     ]
    }
   ],
   "source": [
    "print(second_rows[0])"
   ]
  },
  {
   "cell_type": "code",
   "execution_count": 10,
   "id": "785ca294",
   "metadata": {},
   "outputs": [
    {
     "name": "stdout",
     "output_type": "stream",
     "text": [
      "{'id': '1', 'ip_address': '76.254.72.182'}\n"
     ]
    }
   ],
   "source": [
    "print(third_rows[0])"
   ]
  },
  {
   "cell_type": "code",
   "execution_count": 33,
   "id": "87d10b5f",
   "metadata": {},
   "outputs": [],
   "source": [
    "second_rows_dict = {row['sbh0608@hotmail.com']: row for row in second_rows}\n",
    "third_rows_dict = {row['id']: row for row in third_rows}\n",
    "\n",
    "new_rows = []\n",
    "for first_row in first_rows:\n",
    "    id = first_row['id']\n",
    "    email = first_row['email']\n",
    "    username = first_row['username']\n",
    "    password = first_row['password']\n",
    "    second_row = second_rows_dict.get(email, {})\n",
    "    third_row = third_rows_dict.get(id, {})\n",
    "    new_row = {\n",
    "        'id': id,\n",
    "        'username': username,\n",
    "        'email': email,\n",
    "        'hashed_password': password,\n",
    "        'plain_text_password': second_row.get('Culsen', ''),\n",
    "        'ip_address': third_row.get('ip_address', ''),\n",
    "    }\n",
    "    new_rows.append(new_row)\n",
    "\n",
    "write_tsv('new_crunched_file.tsv', new_rows)"
   ]
  },
  {
   "cell_type": "code",
   "execution_count": null,
   "id": "9449c48f",
   "metadata": {},
   "outputs": [],
   "source": []
  }
 ],
 "metadata": {
  "kernelspec": {
   "display_name": "Python 3 (ipykernel)",
   "language": "python",
   "name": "python3"
  },
  "language_info": {
   "codemirror_mode": {
    "name": "ipython",
    "version": 3
   },
   "file_extension": ".py",
   "mimetype": "text/x-python",
   "name": "python",
   "nbconvert_exporter": "python",
   "pygments_lexer": "ipython3",
   "version": "3.9.13"
  }
 },
 "nbformat": 4,
 "nbformat_minor": 5
}
